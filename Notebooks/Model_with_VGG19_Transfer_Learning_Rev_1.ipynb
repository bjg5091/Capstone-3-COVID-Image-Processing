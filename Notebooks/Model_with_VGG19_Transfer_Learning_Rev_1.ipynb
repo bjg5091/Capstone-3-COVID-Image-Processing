{
  "nbformat": 4,
  "nbformat_minor": 0,
  "metadata": {
    "colab": {
      "provenance": [],
      "machine_shape": "hm",
      "authorship_tag": "ABX9TyMpA5cO9Lr/PwaD/xWubiDx",
      "include_colab_link": true
    },
    "kernelspec": {
      "name": "python3",
      "display_name": "Python 3"
    },
    "language_info": {
      "name": "python"
    },
    "accelerator": "GPU",
    "gpuClass": "standard"
  },
  "cells": [
    {
      "cell_type": "markdown",
      "metadata": {
        "id": "view-in-github",
        "colab_type": "text"
      },
      "source": [
        "<a href=\"https://colab.research.google.com/github/bjg5091/Capstone-3-COVID-Image-Processing/blob/main/Notebooks/Capstone_3_Modeling_with_VGG19_Transfer_Learning_Rev_1.ipynb\" target=\"_parent\"><img src=\"https://colab.research.google.com/assets/colab-badge.svg\" alt=\"Open In Colab\"/></a>"
      ]
    },
    {
      "cell_type": "markdown",
      "source": [
        "NOTE: This is the submitted model for the Capstone project. However, there are also the following models:\n",
        "\n",
        "Three layered Sequential\n",
        "VGG16\n",
        "ResNet50"
      ],
      "metadata": {
        "id": "ZRv5NbpXSGcR"
      }
    },
    {
      "cell_type": "code",
      "execution_count": null,
      "metadata": {
        "id": "DssRDdkuKmyI",
        "colab": {
          "base_uri": "https://localhost:8080/"
        },
        "outputId": "3d442dd6-c119-416b-cbf1-b265399d1526"
      },
      "outputs": [
        {
          "output_type": "stream",
          "name": "stdout",
          "text": [
            "Mounted at RadiographyDataset/\n",
            "2.12.0\n"
          ]
        }
      ],
      "source": [
        "import pandas as pd\n",
        "import numpy as np\n",
        "import matplotlib.pyplot as plt\n",
        "import skimage.color\n",
        "import skimage.filters\n",
        "import os\n",
        "import PIL\n",
        "import PIL.Image\n",
        "import tensorflow as tf\n",
        "import tensorflow_datasets as tfds\n",
        "import io\n",
        "import cv2\n",
        "import pathlib\n",
        "import glob\n",
        "import random \n",
        "import seaborn as sns\n",
        "\n",
        "from keras.applications.vgg19 import preprocess_input\n",
        "from tensorflow.keras.utils import to_categorical\n",
        "from sklearn.preprocessing import LabelEncoder\n",
        "from sklearn.model_selection import train_test_split\n",
        "from tensorflow.keras import Model\n",
        "from tensorflow.keras.layers import Dense, Flatten, Conv2D\n",
        "from skimage.filters import gaussian\n",
        "from skimage import img_as_ubyte\n",
        "from google.colab import drive\n",
        "from tqdm import tqdm\n",
        "from google.colab import files\n",
        "from PIL import Image\n",
        "from keras.callbacks import EarlyStopping\n",
        "from sklearn.metrics import classification_report\n",
        "from sklearn.metrics import confusion_matrix\n",
        "\n",
        "\n",
        "drive.mount('RadiographyDataset/')\n",
        "\n",
        "print(tf.__version__)"
      ]
    },
    {
      "cell_type": "code",
      "source": [
        "#Import the libraries\n",
        "import zipfile\n",
        "import os\n",
        "\n",
        "zip_ref = zipfile.ZipFile('/content/RadiographyDataset/MyDrive/RadiographyDataset.zip', 'r') #Opens the zip file in read mode\n",
        "zip_ref.extractall('/tmp') #Extracts the files into the /tmp folder\n",
        "zip_ref.close()"
      ],
      "metadata": {
        "id": "D899Kvidc8AX"
      },
      "execution_count": null,
      "outputs": []
    },
    {
      "cell_type": "code",
      "source": [
        "cwd = os.getcwd()\n",
        "print(cwd)"
      ],
      "metadata": {
        "colab": {
          "base_uri": "https://localhost:8080/"
        },
        "id": "iue88yEedceC",
        "outputId": "c2194814-6360-40b9-9a16-c247be47132f"
      },
      "execution_count": null,
      "outputs": [
        {
          "output_type": "stream",
          "name": "stdout",
          "text": [
            "/content\n"
          ]
        }
      ]
    },
    {
      "cell_type": "code",
      "source": [
        "image_list = []\n",
        "path = '/tmp/RadiographyDataset/RadiographyDataset'\n",
        "data_dir = pathlib.Path(path).with_suffix('')\n",
        "print(data_dir)\n",
        "\n",
        "image_count = len(list(data_dir.glob('*/*.png')))\n",
        "print(image_count)"
      ],
      "metadata": {
        "colab": {
          "base_uri": "https://localhost:8080/"
        },
        "id": "UoHr1fF6dfsz",
        "outputId": "7a70f636-323d-47a0-cb6d-59a32ad2530c"
      },
      "execution_count": null,
      "outputs": [
        {
          "output_type": "stream",
          "name": "stdout",
          "text": [
            "/tmp/RadiographyDataset/RadiographyDataset\n",
            "21165\n"
          ]
        }
      ]
    },
    {
      "cell_type": "code",
      "source": [
        "image_list = []\n",
        "path_covid = '/tmp/RadiographyDataset/RadiographyDataset/COVID/*.*'"
      ],
      "metadata": {
        "id": "syy8a79qdOJm"
      },
      "execution_count": null,
      "outputs": []
    },
    {
      "cell_type": "code",
      "source": [
        "covid = list(data_dir.glob('COVID/*'))\n",
        "PIL.Image.open(str(covid[0]))"
      ],
      "metadata": {
        "colab": {
          "base_uri": "https://localhost:8080/",
          "height": 316
        },
        "id": "9CS6nvUoePNF",
        "outputId": "b9e3eb3c-980f-4c42-f361-6a216cef70c7"
      },
      "execution_count": null,
      "outputs": [
        {
          "output_type": "execute_result",
          "data": {
            "text/plain": [
              "<PIL.PngImagePlugin.PngImageFile image mode=L size=299x299 at 0x7F142633A7C0>"
            ],
            "image/png": "[encoded data removed]"
          },
          "metadata": {},
          "execution_count": 6
        }
      ]
    },
    {
      "cell_type": "code",
      "source": [
        "batch_size = 32\n",
        "img_height = 299\n",
        "img_width = 299"
      ],
      "metadata": {
        "id": "Y-_EBnyieXXY"
      },
      "execution_count": null,
      "outputs": []
    },
    {
      "cell_type": "code",
      "source": [
        "imagePaths = []\n",
        "for dirname, _, filenames in os.walk('/tmp/RadiographyDataset/RadiographyDataset'):\n",
        "    for filename in filenames:\n",
        "        if (filename[-3:] == 'png'):\n",
        "            imagePaths.append(os.path.join(dirname, filename))"
      ],
      "metadata": {
        "id": "BPu-DJaBTXe4"
      },
      "execution_count": null,
      "outputs": []
    },
    {
      "cell_type": "code",
      "source": [
        "train_ds = tf.keras.utils.image_dataset_from_directory(\n",
        "  data_dir,\n",
        "  label_mode='categorical',\n",
        "  validation_split=0.65,\n",
        "  subset=\"training\",\n",
        "  seed=123,\n",
        "  image_size=(img_height, img_width),\n",
        "  batch_size=batch_size)"
      ],
      "metadata": {
        "colab": {
          "base_uri": "https://localhost:8080/"
        },
        "id": "b4Fn12ehek5H",
        "outputId": "a9203a28-444e-4390-ea32-269acf5d7b9d"
      },
      "execution_count": null,
      "outputs": [
        {
          "output_type": "stream",
          "name": "stdout",
          "text": [
            "Found 21165 files belonging to 4 classes.\n",
            "Using 7408 files for training.\n"
          ]
        }
      ]
    },
    {
      "cell_type": "code",
      "source": [
        "val_ds = tf.keras.utils.image_dataset_from_directory(\n",
        "  data_dir,\n",
        "  label_mode='categorical',\n",
        "  validation_split=0.15,\n",
        "  subset=\"validation\",\n",
        "  seed=123,\n",
        "  image_size=(img_height, img_width),\n",
        "  batch_size=batch_size)"
      ],
      "metadata": {
        "colab": {
          "base_uri": "https://localhost:8080/"
        },
        "id": "Fy7bXFuxecof",
        "outputId": "257491b2-c657-4bd4-b436-9f7376793511"
      },
      "execution_count": null,
      "outputs": [
        {
          "output_type": "stream",
          "name": "stdout",
          "text": [
            "Found 21165 files belonging to 4 classes.\n",
            "Using 3174 files for validation.\n"
          ]
        }
      ]
    },
    {
      "cell_type": "code",
      "source": [
        "val_batches = tf.data.experimental.cardinality(val_ds)\n",
        "test_dataset = val_ds.take(val_batches // 5)\n",
        "val_ds = val_ds.skip(val_batches // 5)"
      ],
      "metadata": {
        "id": "_cL3rUf27b7G"
      },
      "execution_count": null,
      "outputs": []
    },
    {
      "cell_type": "code",
      "execution_count": null,
      "metadata": {
        "id": "Q9pFlFWgBKgH",
        "colab": {
          "base_uri": "https://localhost:8080/"
        },
        "outputId": "6ba3640e-0e2d-4081-e875-8d5d46ab9b3c"
      },
      "outputs": [
        {
          "output_type": "stream",
          "name": "stdout",
          "text": [
            "Number of validation batches: 80\n",
            "Number of test batches: 20\n"
          ]
        }
      ],
      "source": [
        "print('Number of validation batches: %d' % tf.data.experimental.cardinality(val_ds))\n",
        "print('Number of test batches: %d' % tf.data.experimental.cardinality(test_dataset))"
      ]
    },
    {
      "cell_type": "code",
      "source": [
        "class_names = train_ds.class_names\n",
        "print(class_names)"
      ],
      "metadata": {
        "colab": {
          "base_uri": "https://localhost:8080/"
        },
        "id": "zUl05Hh7eglx",
        "outputId": "817535f1-582b-4289-c642-df87c5bf714f"
      },
      "execution_count": null,
      "outputs": [
        {
          "output_type": "stream",
          "name": "stdout",
          "text": [
            "['COVID', 'Lung_Opacity', 'Normal', 'Viral_Pneumonia']\n"
          ]
        }
      ]
    },
    {
      "cell_type": "code",
      "source": [
        "for image_batch, labels_batch in train_ds:\n",
        "  print(image_batch.shape)\n",
        "  print(labels_batch.shape)\n",
        "  break"
      ],
      "metadata": {
        "colab": {
          "base_uri": "https://localhost:8080/"
        },
        "id": "M8x7ti50pgxv",
        "outputId": "fdac9e54-3737-4576-d78d-5d105bce49c0"
      },
      "execution_count": null,
      "outputs": [
        {
          "output_type": "stream",
          "name": "stdout",
          "text": [
            "(32, 299, 299, 3)\n",
            "(32, 4)\n"
          ]
        }
      ]
    },
    {
      "cell_type": "code",
      "source": [
        "normalization_layer = tf.keras.layers.Rescaling(1./255)"
      ],
      "metadata": {
        "id": "G4r_UwyrpnP3"
      },
      "execution_count": null,
      "outputs": []
    },
    {
      "cell_type": "code",
      "source": [
        "normalized_ds = train_ds.map(lambda x, y: (normalization_layer(x), y))\n",
        "image_batch, labels_batch = next(iter(normalized_ds))\n",
        "first_image = image_batch[0]\n",
        "# Notice the pixel values are now in `[0,1]`.\n",
        "print(np.min(first_image), np.max(first_image))"
      ],
      "metadata": {
        "id": "RG1hpZa2prke",
        "colab": {
          "base_uri": "https://localhost:8080/"
        },
        "outputId": "6883e2ca-e3f7-4a05-b696-e71986c8cbeb"
      },
      "execution_count": null,
      "outputs": [
        {
          "output_type": "stream",
          "name": "stdout",
          "text": [
            "0.0 1.0\n"
          ]
        }
      ]
    },
    {
      "cell_type": "code",
      "source": [
        "AUTOTUNE = tf.data.AUTOTUNE\n",
        "\n",
        "train_ds = train_ds.cache().prefetch(buffer_size=AUTOTUNE)\n",
        "val_ds = val_ds.cache().prefetch(buffer_size=AUTOTUNE)\n",
        "test_dataset = test_dataset.prefetch(buffer_size=AUTOTUNE)"
      ],
      "metadata": {
        "id": "RcIvyF7lpvhZ"
      },
      "execution_count": null,
      "outputs": []
    },
    {
      "cell_type": "code",
      "source": [
        "preprocess_input = tf.keras.applications.vgg19.preprocess_input"
      ],
      "metadata": {
        "id": "Y144NNk49YDr"
      },
      "execution_count": null,
      "outputs": []
    },
    {
      "cell_type": "code",
      "source": [
        "imsize = (299,299)"
      ],
      "metadata": {
        "id": "-U3s2JHKJwBi"
      },
      "execution_count": null,
      "outputs": []
    },
    {
      "cell_type": "code",
      "source": [
        "# Create the base model from the pre-trained model VGG19\n",
        "IMG_SHAPE = imsize + (3,)\n",
        "base_model = tf.keras.applications.VGG19(input_shape=IMG_SHAPE,\n",
        "                                               include_top=False,\n",
        "                                               weights='imagenet')"
      ],
      "metadata": {
        "id": "YpYJYVZc-RVl",
        "colab": {
          "base_uri": "https://localhost:8080/"
        },
        "outputId": "d8907a04-98de-4241-d516-6d2ea7bd9411"
      },
      "execution_count": null,
      "outputs": [
        {
          "output_type": "stream",
          "name": "stdout",
          "text": [
            "Downloading data from https://storage.googleapis.com/tensorflow/keras-applications/vgg19/vgg19_weights_tf_dim_ordering_tf_kernels_notop.h5\n",
            "80134624/80134624 [==============================] - 4s 0us/step\n"
          ]
        }
      ]
    },
    {
      "cell_type": "code",
      "source": [
        "image_batch, label_batch = next(iter(train_ds))\n",
        "feature_batch = base_model(image_batch)\n",
        "print(feature_batch.shape)"
      ],
      "metadata": {
        "colab": {
          "base_uri": "https://localhost:8080/"
        },
        "id": "Me5x39eJ-sPa",
        "outputId": "2892fbe3-0117-4139-8d7a-9a0025b46a2d"
      },
      "execution_count": null,
      "outputs": [
        {
          "output_type": "stream",
          "name": "stdout",
          "text": [
            "(32, 9, 9, 512)\n"
          ]
        }
      ]
    },
    {
      "cell_type": "code",
      "source": [
        "base_model.trainable = False\n",
        "\n",
        "base_model.summary()"
      ],
      "metadata": {
        "colab": {
          "base_uri": "https://localhost:8080/"
        },
        "id": "25iA5mKe-8an",
        "outputId": "142ab623-8f5b-402f-81d4-9cdec8158a04"
      },
      "execution_count": null,
      "outputs": [
        {
          "output_type": "stream",
          "name": "stdout",
          "text": [
            "Model: \"vgg19\"\n",
            "_________________________________________________________________\n",
            " Layer (type)                Output Shape              Param #   \n",
            "=================================================================\n",
            " input_1 (InputLayer)        [(None, 299, 299, 3)]     0         \n",
            "                                                                 \n",
            " block1_conv1 (Conv2D)       (None, 299, 299, 64)      1792      \n",
            "                                                                 \n",
            " block1_conv2 (Conv2D)       (None, 299, 299, 64)      36928     \n",
            "                                                                 \n",
            " block1_pool (MaxPooling2D)  (None, 149, 149, 64)      0         \n",
            "                                                                 \n",
            " block2_conv1 (Conv2D)       (None, 149, 149, 128)     73856     \n",
            "                                                                 \n",
            " block2_conv2 (Conv2D)       (None, 149, 149, 128)     147584    \n",
            "                                                                 \n",
            " block2_pool (MaxPooling2D)  (None, 74, 74, 128)       0         \n",
            "                                                                 \n",
            " block3_conv1 (Conv2D)       (None, 74, 74, 256)       295168    \n",
            "                                                                 \n",
            " block3_conv2 (Conv2D)       (None, 74, 74, 256)       590080    \n",
            "                                                                 \n",
            " block3_conv3 (Conv2D)       (None, 74, 74, 256)       590080    \n",
            "                                                                 \n",
            " block3_conv4 (Conv2D)       (None, 74, 74, 256)       590080    \n",
            "                                                                 \n",
            " block3_pool (MaxPooling2D)  (None, 37, 37, 256)       0         \n",
            "                                                                 \n",
            " block4_conv1 (Conv2D)       (None, 37, 37, 512)       1180160   \n",
            "                                                                 \n",
            " block4_conv2 (Conv2D)       (None, 37, 37, 512)       2359808   \n",
            "                                                                 \n",
            " block4_conv3 (Conv2D)       (None, 37, 37, 512)       2359808   \n",
            "                                                                 \n",
            " block4_conv4 (Conv2D)       (None, 37, 37, 512)       2359808   \n",
            "                                                                 \n",
            " block4_pool (MaxPooling2D)  (None, 18, 18, 512)       0         \n",
            "                                                                 \n",
            " block5_conv1 (Conv2D)       (None, 18, 18, 512)       2359808   \n",
            "                                                                 \n",
            " block5_conv2 (Conv2D)       (None, 18, 18, 512)       2359808   \n",
            "                                                                 \n",
            " block5_conv3 (Conv2D)       (None, 18, 18, 512)       2359808   \n",
            "                                                                 \n",
            " block5_conv4 (Conv2D)       (None, 18, 18, 512)       2359808   \n",
            "                                                                 \n",
            " block5_pool (MaxPooling2D)  (None, 9, 9, 512)         0         \n",
            "                                                                 \n",
            "=================================================================\n",
            "Total params: 20,024,384\n",
            "Trainable params: 0\n",
            "Non-trainable params: 20,024,384\n",
            "_________________________________________________________________\n"
          ]
        }
      ]
    },
    {
      "cell_type": "code",
      "source": [
        "global_average_layer = tf.keras.layers.GlobalAveragePooling2D()\n",
        "feature_batch_average = global_average_layer(feature_batch)\n",
        "print(feature_batch_average.shape)"
      ],
      "metadata": {
        "colab": {
          "base_uri": "https://localhost:8080/"
        },
        "id": "H911jjHP_4PV",
        "outputId": "0ada4fbd-0f18-4b22-acdf-b44dab380531"
      },
      "execution_count": null,
      "outputs": [
        {
          "output_type": "stream",
          "name": "stdout",
          "text": [
            "(32, 512)\n"
          ]
        }
      ]
    },
    {
      "cell_type": "code",
      "source": [
        "prediction_layer = tf.keras.layers.Dense(4, activation='softmax')\n",
        "prediction_batch = prediction_layer(feature_batch_average)\n",
        "print(prediction_batch.shape)"
      ],
      "metadata": {
        "colab": {
          "base_uri": "https://localhost:8080/"
        },
        "id": "HIahgWNp_7Xg",
        "outputId": "1350acc1-7c5d-4b4c-dc2a-e4f82867a52d"
      },
      "execution_count": null,
      "outputs": [
        {
          "output_type": "stream",
          "name": "stdout",
          "text": [
            "(32, 4)\n"
          ]
        }
      ]
    },
    {
      "cell_type": "code",
      "source": [
        "inputs = tf.keras.Input(shape=(299, 299, 3))\n",
        "x = preprocess_input(inputs)\n",
        "x = base_model(x, training=False)\n",
        "x = global_average_layer(x)\n",
        "x = tf.keras.layers.Dropout(0.2)(x)\n",
        "outputs = prediction_layer(x)\n",
        "model = tf.keras.Model(inputs, outputs)"
      ],
      "metadata": {
        "id": "WW_ipXP3_7dU"
      },
      "execution_count": null,
      "outputs": []
    },
    {
      "cell_type": "code",
      "source": [
        "model.summary()"
      ],
      "metadata": {
        "id": "qjDDHw3ErKHH",
        "colab": {
          "base_uri": "https://localhost:8080/"
        },
        "outputId": "8c60a308-5d43-4b9e-e1b0-d84c55c3fa89"
      },
      "execution_count": null,
      "outputs": [
        {
          "output_type": "stream",
          "name": "stdout",
          "text": [
            "Model: \"model\"\n",
            "_________________________________________________________________\n",
            " Layer (type)                Output Shape              Param #   \n",
            "=================================================================\n",
            " input_2 (InputLayer)        [(None, 299, 299, 3)]     0         \n",
            "                                                                 \n",
            " tf.__operators__.getitem (S  (None, 299, 299, 3)      0         \n",
            " licingOpLambda)                                                 \n",
            "                                                                 \n",
            " tf.nn.bias_add (TFOpLambda)  (None, 299, 299, 3)      0         \n",
            "                                                                 \n",
            " vgg19 (Functional)          (None, 9, 9, 512)         20024384  \n",
            "                                                                 \n",
            " global_average_pooling2d (G  (None, 512)              0         \n",
            " lobalAveragePooling2D)                                          \n",
            "                                                                 \n",
            " dropout (Dropout)           (None, 512)               0         \n",
            "                                                                 \n",
            " dense (Dense)               (None, 4)                 2052      \n",
            "                                                                 \n",
            "=================================================================\n",
            "Total params: 20,026,436\n",
            "Trainable params: 2,052\n",
            "Non-trainable params: 20,024,384\n",
            "_________________________________________________________________\n"
          ]
        }
      ]
    },
    {
      "cell_type": "code",
      "source": [
        "len(model.trainable_variables)"
      ],
      "metadata": {
        "colab": {
          "base_uri": "https://localhost:8080/"
        },
        "id": "kNy640LEAWJj",
        "outputId": "f2d66d3d-a602-475e-c1cd-97e4f2c724e9"
      },
      "execution_count": null,
      "outputs": [
        {
          "output_type": "execute_result",
          "data": {
            "text/plain": [
              "2"
            ]
          },
          "metadata": {},
          "execution_count": 27
        }
      ]
    },
    {
      "cell_type": "code",
      "source": [
        "base_learning_rate = 0.0001\n",
        "\n",
        "model.compile(\n",
        "  optimizer=tf.keras.optimizers.Adam(learning_rate=base_learning_rate),\n",
        "  loss=tf.keras.losses.CategoricalCrossentropy(from_logits=True),\n",
        "  metrics=['accuracy',\n",
        "     tf.keras.metrics.Recall(),\n",
        "     tf.keras.metrics.Precision()])"
      ],
      "metadata": {
        "id": "iuTEeMN2AsXR"
      },
      "execution_count": null,
      "outputs": []
    },
    {
      "cell_type": "code",
      "source": [
        "es = EarlyStopping(monitor='val_accuracy', patience=3)"
      ],
      "metadata": {
        "id": "ltE8ZVdi-9g9"
      },
      "execution_count": null,
      "outputs": []
    },
    {
      "cell_type": "code",
      "source": [
        "initial_epochs = 10"
      ],
      "metadata": {
        "id": "L1GH_a6aTMQm"
      },
      "execution_count": null,
      "outputs": []
    },
    {
      "cell_type": "code",
      "source": [
        "this_model = model.fit(train_ds, validation_data=val_ds, epochs=initial_epochs, batch_size=128, verbose=1, callbacks = [es])"
      ],
      "metadata": {
        "colab": {
          "base_uri": "https://localhost:8080/"
        },
        "id": "oxecnYjCrMSM",
        "outputId": "100fb86d-7b34-4a70-80fc-22e9d013b7af"
      },
      "execution_count": null,
      "outputs": [
        {
          "output_type": "stream",
          "name": "stdout",
          "text": [
            "Epoch 1/10\n"
          ]
        },
        {
          "output_type": "stream",
          "name": "stderr",
          "text": [
            "/usr/local/lib/python3.9/dist-packages/keras/backend.py:5561: UserWarning: \"`categorical_crossentropy` received `from_logits=True`, but the `output` argument was produced by a Softmax activation and thus does not represent logits. Was this intended?\n",
            "  output, from_logits = _get_logits(\n"
          ]
        },
        {
          "output_type": "stream",
          "name": "stdout",
          "text": [
            "232/232 [==============================] - 100s 396ms/step - loss: 2.4811 - accuracy: 0.3503 - recall: 0.3255 - precision: 0.3597 - val_loss: 1.3137 - val_accuracy: 0.5051 - val_recall: 0.4373 - val_precision: 0.5312\n",
            "Epoch 2/10\n",
            "232/232 [==============================] - 91s 394ms/step - loss: 1.5448 - accuracy: 0.5012 - recall: 0.4638 - precision: 0.5235 - val_loss: 0.9932 - val_accuracy: 0.6148 - val_recall: 0.5533 - val_precision: 0.6607\n",
            "Epoch 3/10\n",
            "232/232 [==============================] - 92s 396ms/step - loss: 1.2447 - accuracy: 0.5780 - recall: 0.5394 - precision: 0.6057 - val_loss: 0.8418 - val_accuracy: 0.6843 - val_recall: 0.6334 - val_precision: 0.7269\n",
            "Epoch 4/10\n",
            "232/232 [==============================] - 92s 395ms/step - loss: 1.0648 - accuracy: 0.6320 - recall: 0.5983 - precision: 0.6589 - val_loss: 0.7589 - val_accuracy: 0.7174 - val_recall: 0.6701 - val_precision: 0.7553\n",
            "Epoch 5/10\n",
            "232/232 [==============================] - 92s 396ms/step - loss: 0.9809 - accuracy: 0.6632 - recall: 0.6257 - precision: 0.6874 - val_loss: 0.7031 - val_accuracy: 0.7407 - val_recall: 0.7005 - val_precision: 0.7734\n",
            "Epoch 6/10\n",
            "232/232 [==============================] - 92s 396ms/step - loss: 0.9171 - accuracy: 0.6822 - recall: 0.6471 - precision: 0.7067 - val_loss: 0.6580 - val_accuracy: 0.7597 - val_recall: 0.7159 - val_precision: 0.7890\n",
            "Epoch 7/10\n",
            "232/232 [==============================] - 92s 395ms/step - loss: 0.8246 - accuracy: 0.7053 - recall: 0.6729 - precision: 0.7314 - val_loss: 0.6240 - val_accuracy: 0.7707 - val_recall: 0.7360 - val_precision: 0.7994\n",
            "Epoch 8/10\n",
            "232/232 [==============================] - 91s 395ms/step - loss: 0.7727 - accuracy: 0.7249 - recall: 0.6914 - precision: 0.7522 - val_loss: 0.5955 - val_accuracy: 0.7837 - val_recall: 0.7502 - val_precision: 0.8089\n",
            "Epoch 9/10\n",
            "232/232 [==============================] - 91s 394ms/step - loss: 0.7318 - accuracy: 0.7350 - recall: 0.7029 - precision: 0.7632 - val_loss: 0.5709 - val_accuracy: 0.7916 - val_recall: 0.7640 - val_precision: 0.8172\n",
            "Epoch 10/10\n",
            "232/232 [==============================] - 92s 395ms/step - loss: 0.6889 - accuracy: 0.7551 - recall: 0.7257 - precision: 0.7805 - val_loss: 0.5513 - val_accuracy: 0.7932 - val_recall: 0.7672 - val_precision: 0.8241\n"
          ]
        }
      ]
    },
    {
      "cell_type": "code",
      "source": [
        "accuracy = this_model.history['accuracy']\n",
        "val_accuracy = this_model.history['val_accuracy']\n",
        "loss = this_model.history['loss']\n",
        "val_loss = this_model.history['val_loss']\n",
        "recall = this_model.history['recall']\n",
        "val_recall = this_model.history['val_recall']\n",
        "precision = this_model.history['precision']\n",
        "val_precision = this_model.history['val_precision']\n",
        "\n",
        "print(np.max(val_accuracy))"
      ],
      "metadata": {
        "id": "dEULW2mEYpmT",
        "colab": {
          "base_uri": "https://localhost:8080/"
        },
        "outputId": "7bec70bb-ea90-4ce7-941a-530963d9781e"
      },
      "execution_count": null,
      "outputs": [
        {
          "output_type": "stream",
          "name": "stdout",
          "text": [
            "0.7932122945785522\n"
          ]
        }
      ]
    },
    {
      "cell_type": "code",
      "source": [
        "epoch_range = range(1, len(accuracy)+1)"
      ],
      "metadata": {
        "id": "zkfeJM7uYry6"
      },
      "execution_count": null,
      "outputs": []
    },
    {
      "cell_type": "code",
      "source": [
        "plt.plot(epoch_range, accuracy, label='Training Accuracy')\n",
        "plt.plot(epoch_range, val_accuracy, label='Validation Accuracy')\n",
        "plt.title('Accuracies Across Epochs')\n",
        "plt.legend()\n",
        "plt.figure()\n",
        "## saved as epochs_accuracies.png\n",
        "\n",
        "plt.plot(epoch_range, loss,  label='Training loss')\n",
        "plt.plot(epoch_range, val_loss, label='Validation loss')\n",
        "plt.title('Losses Across Epochs')\n",
        "plt.legend()\n",
        "plt.show()        \n",
        "## saved as epochs_losses.png\n",
        "\n"
      ],
      "metadata": {
        "colab": {
          "base_uri": "https://localhost:8080/",
          "height": 887
        },
        "id": "-WcpJI9lYwP9",
        "outputId": "0deb14de-ca1c-40b0-9633-46a71eaf9473"
      },
      "execution_count": null,
      "outputs": [
        {
          "output_type": "display_data",
          "data": {
            "text/plain": [
              "<Figure size 640x480 with 1 Axes>"
            ],
            "image/png": "[encoded data removed]"
          },
          "metadata": {}
        },
        {
          "output_type": "display_data",
          "data": {
            "text/plain": [
              "<Figure size 640x480 with 1 Axes>"
            ],
            "image/png": "[encoded data removed]"
          },
          "metadata": {}
        }
      ]
    },
    {
      "cell_type": "code",
      "source": [
        "y_pred = model.predict(val_ds)\n",
        "print(class_names[np.argmax(y_pred[1])])"
      ],
      "metadata": {
        "colab": {
          "base_uri": "https://localhost:8080/"
        },
        "id": "azBQJKrB6aHM",
        "outputId": "95b62568-c1c8-49f0-ed45-af6d7d64794e"
      },
      "execution_count": null,
      "outputs": [
        {
          "output_type": "stream",
          "name": "stdout",
          "text": [
            "80/80 [==============================] - 24s 297ms/step\n",
            "Lung_Opacity\n"
          ]
        }
      ]
    },
    {
      "cell_type": "code",
      "source": [
        "base_model.trainable = True\n",
        "\n",
        "# Let's take a look to see how many layers are in the base model\n",
        "print(\"Number of layers in the base model: \", len(base_model.layers))\n",
        "\n",
        "# Fine-tune from this layer onwards\n",
        "fine_tune_at = 10\n",
        "\n",
        "# Freeze all the layers before the `fine_tune_at` layer\n",
        "for layer in base_model.layers[:fine_tune_at]:\n",
        "  layer.trainable = False"
      ],
      "metadata": {
        "colab": {
          "base_uri": "https://localhost:8080/"
        },
        "id": "bmQKl7DjTNOS",
        "outputId": "88ae4738-ef22-4df0-f357-2732b7fb26b9"
      },
      "execution_count": null,
      "outputs": [
        {
          "output_type": "stream",
          "name": "stdout",
          "text": [
            "Number of layers in the base model:  22\n"
          ]
        }
      ]
    },
    {
      "cell_type": "code",
      "source": [
        "model.compile(\n",
        "  optimizer=tf.keras.optimizers.Adam(learning_rate=base_learning_rate/10),\n",
        "  loss=tf.keras.losses.CategoricalCrossentropy(from_logits=True),\n",
        "  metrics=['accuracy',\n",
        "     tf.keras.metrics.Recall(),\n",
        "     tf.keras.metrics.Precision()])"
      ],
      "metadata": {
        "id": "xuXroMpFTZW-"
      },
      "execution_count": null,
      "outputs": []
    },
    {
      "cell_type": "code",
      "source": [
        "model.summary()"
      ],
      "metadata": {
        "colab": {
          "base_uri": "https://localhost:8080/"
        },
        "id": "-1soKaGRTb1-",
        "outputId": "9eabebc3-f0cc-4416-dcc4-824da6efb8a5"
      },
      "execution_count": null,
      "outputs": [
        {
          "output_type": "stream",
          "name": "stdout",
          "text": [
            "Model: \"model\"\n",
            "_________________________________________________________________\n",
            " Layer (type)                Output Shape              Param #   \n",
            "=================================================================\n",
            " input_2 (InputLayer)        [(None, 299, 299, 3)]     0         \n",
            "                                                                 \n",
            " tf.__operators__.getitem (S  (None, 299, 299, 3)      0         \n",
            " licingOpLambda)                                                 \n",
            "                                                                 \n",
            " tf.nn.bias_add (TFOpLambda)  (None, 299, 299, 3)      0         \n",
            "                                                                 \n",
            " vgg19 (Functional)          (None, 9, 9, 512)         20024384  \n",
            "                                                                 \n",
            " global_average_pooling2d (G  (None, 512)              0         \n",
            " lobalAveragePooling2D)                                          \n",
            "                                                                 \n",
            " dropout (Dropout)           (None, 512)               0         \n",
            "                                                                 \n",
            " dense (Dense)               (None, 4)                 2052      \n",
            "                                                                 \n",
            "=================================================================\n",
            "Total params: 20,026,436\n",
            "Trainable params: 18,290,948\n",
            "Non-trainable params: 1,735,488\n",
            "_________________________________________________________________\n"
          ]
        }
      ]
    },
    {
      "cell_type": "code",
      "source": [
        "len(model.trainable_variables)"
      ],
      "metadata": {
        "colab": {
          "base_uri": "https://localhost:8080/"
        },
        "id": "Fg7B6aBGTcP0",
        "outputId": "fc5b4033-a39c-4ccc-d725-e53743481978"
      },
      "execution_count": null,
      "outputs": [
        {
          "output_type": "execute_result",
          "data": {
            "text/plain": [
              "20"
            ]
          },
          "metadata": {},
          "execution_count": 39
        }
      ]
    },
    {
      "cell_type": "code",
      "source": [
        "fine_tune_epochs = 10\n",
        "total_epochs =  initial_epochs + fine_tune_epochs\n",
        "\n",
        "model_fine = model.fit(train_ds, validation_data=val_ds, epochs=total_epochs, initial_epoch=this_model.epoch[-1], batch_size=128, verbose=1, callbacks = [es])"
      ],
      "metadata": {
        "colab": {
          "base_uri": "https://localhost:8080/"
        },
        "id": "ywrPTPX0TfKJ",
        "outputId": "408d0f7d-a62c-4086-be81-3b958b51851e"
      },
      "execution_count": null,
      "outputs": [
        {
          "output_type": "stream",
          "name": "stdout",
          "text": [
            "Epoch 10/20\n",
            "232/232 [==============================] - 155s 628ms/step - loss: 0.3876 - accuracy: 0.8576 - recall_1: 0.8421 - precision_1: 0.8711 - val_loss: 0.2770 - val_accuracy: 0.8982 - val_recall_1: 0.8903 - val_precision_1: 0.9042\n",
            "Epoch 11/20\n",
            "232/232 [==============================] - 142s 615ms/step - loss: 0.2024 - accuracy: 0.9308 - recall_1: 0.9266 - precision_1: 0.9353 - val_loss: 0.2651 - val_accuracy: 0.8990 - val_recall_1: 0.8966 - val_precision_1: 0.9012\n",
            "Epoch 12/20\n",
            "232/232 [==============================] - 143s 615ms/step - loss: 0.1344 - accuracy: 0.9534 - recall_1: 0.9505 - precision_1: 0.9557 - val_loss: 0.1979 - val_accuracy: 0.9282 - val_recall_1: 0.9262 - val_precision_1: 0.9302\n",
            "Epoch 13/20\n",
            "232/232 [==============================] - 143s 616ms/step - loss: 0.1024 - accuracy: 0.9637 - recall_1: 0.9630 - precision_1: 0.9647 - val_loss: 0.2111 - val_accuracy: 0.9254 - val_recall_1: 0.9238 - val_precision_1: 0.9260\n",
            "Epoch 14/20\n",
            "232/232 [==============================] - 143s 616ms/step - loss: 0.0737 - accuracy: 0.9756 - recall_1: 0.9746 - precision_1: 0.9761 - val_loss: 0.1991 - val_accuracy: 0.9353 - val_recall_1: 0.9353 - val_precision_1: 0.9368\n",
            "Epoch 15/20\n",
            "232/232 [==============================] - 143s 616ms/step - loss: 0.0666 - accuracy: 0.9764 - recall_1: 0.9756 - precision_1: 0.9769 - val_loss: 0.2065 - val_accuracy: 0.9341 - val_recall_1: 0.9333 - val_precision_1: 0.9352\n",
            "Epoch 16/20\n",
            "232/232 [==============================] - 143s 617ms/step - loss: 0.0555 - accuracy: 0.9830 - recall_1: 0.9827 - precision_1: 0.9838 - val_loss: 0.2468 - val_accuracy: 0.9262 - val_recall_1: 0.9258 - val_precision_1: 0.9269\n",
            "Epoch 17/20\n",
            "232/232 [==============================] - 143s 617ms/step - loss: 0.0397 - accuracy: 0.9852 - recall_1: 0.9846 - precision_1: 0.9853 - val_loss: 0.2490 - val_accuracy: 0.9250 - val_recall_1: 0.9246 - val_precision_1: 0.9272\n"
          ]
        }
      ]
    },
    {
      "cell_type": "code",
      "source": [
        "accuracy += model_fine.history['accuracy']\n",
        "val_accuracy += model_fine.history['val_accuracy']\n",
        "\n",
        "loss += model_fine.history['loss']\n",
        "val_loss += model_fine.history['val_loss']\n",
        "\n",
        "recall += model_fine.history['recall_1']\n",
        "val_recall += model_fine.history['val_recall_1']\n",
        "\n",
        "precision += model_fine.history['precision_1']\n",
        "val_precision += model_fine.history['val_precision_1']"
      ],
      "metadata": {
        "id": "bW5uUGXmTjuz"
      },
      "execution_count": null,
      "outputs": []
    },
    {
      "cell_type": "code",
      "source": [
        "print(\"val_accuracy:\", np.max(val_accuracy))\n",
        "print(\"val_recall:\", np.max(val_recall))\n",
        "print(\"val_precision:\", np.max(val_precision))"
      ],
      "metadata": {
        "colab": {
          "base_uri": "https://localhost:8080/"
        },
        "id": "s0Y_aM4IV1Vq",
        "outputId": "fde09fda-9fca-4f53-892b-fdc3bc16d5f0"
      },
      "execution_count": null,
      "outputs": [
        {
          "output_type": "stream",
          "name": "stdout",
          "text": [
            "val_accuracy: 0.9352802038192749\n",
            "val_recall: 0.9352802038192749\n",
            "val_precision: 0.9367588758468628\n"
          ]
        }
      ]
    },
    {
      "cell_type": "code",
      "source": [
        "final_loss, final_accuracy, final_recall, final_precision = model.evaluate(val_ds)"
      ],
      "metadata": {
        "colab": {
          "base_uri": "https://localhost:8080/"
        },
        "outputId": "cdcf99df-36f3-4487-cc5d-3542ba08e854",
        "id": "qyqCT9RhYwfd"
      },
      "execution_count": null,
      "outputs": [
        {
          "output_type": "stream",
          "name": "stdout",
          "text": [
            "80/80 [==============================] - 23s 293ms/step - loss: 0.2490 - accuracy: 0.9250 - recall_1: 0.9246 - precision_1: 0.9272\n"
          ]
        }
      ]
    },
    {
      "cell_type": "code",
      "source": [
        "plt.figure(figsize=(8, 8))\n",
        "plt.subplot(2, 1, 1)\n",
        "plt.plot(accuracy, label='Training Accuracy')\n",
        "plt.plot(val_accuracy, label='Validation Accuracy')\n",
        "plt.ylim([0.4, 1])\n",
        "plt.plot([initial_epochs-1,initial_epochs-1],\n",
        "          plt.ylim(), label='Start Fine Tuning')\n",
        "plt.legend(loc='lower right')\n",
        "plt.title('Training and Validation Accuracy')\n",
        "\n",
        "plt.subplot(2, 1, 2)\n",
        "plt.plot(loss, label='Training Loss')\n",
        "plt.plot(val_loss, label='Validation Loss')\n",
        "plt.ylim([0, 2.0])\n",
        "plt.plot([initial_epochs-1,initial_epochs-1],\n",
        "         plt.ylim(), label='Start Fine Tuning')\n",
        "plt.legend(loc='upper right')\n",
        "plt.title('Training and Validation Loss')\n",
        "plt.xlabel('epoch')\n",
        "plt.show()"
      ],
      "metadata": {
        "colab": {
          "base_uri": "https://localhost:8080/",
          "height": 718
        },
        "id": "MjQTzJbiUSId",
        "outputId": "3ae80255-fb36-461d-eb52-b7442ebbc927"
      },
      "execution_count": null,
      "outputs": [
        {
          "output_type": "display_data",
          "data": {
            "text/plain": [
              "<Figure size 800x800 with 2 Axes>"
            ],
            "image/png": "[encoded data removed]"
          },
          "metadata": {}
        }
      ]
    },
    {
      "cell_type": "code",
      "source": [
        "loss, accuracy, recall, precision = model.evaluate(test_dataset)\n",
        "print('Test accuracy :', accuracy)"
      ],
      "metadata": {
        "colab": {
          "base_uri": "https://localhost:8080/"
        },
        "id": "wp2-ocUk-M_V",
        "outputId": "5c922e1e-ec09-45d5-aea9-bdbfcfd3d1db"
      },
      "execution_count": null,
      "outputs": [
        {
          "output_type": "stream",
          "name": "stdout",
          "text": [
            "20/20 [==============================] - 6s 297ms/step - loss: 0.2882 - accuracy: 0.9203 - recall_1: 0.9203 - precision_1: 0.9203\n",
            "Test accuracy : 0.9203125238418579\n"
          ]
        }
      ]
    },
    {
      "cell_type": "code",
      "source": [
        "f1 = 2*final_precision*final_recall/(final_precision + final_recall)\n",
        "\n",
        "print(\"F1 score: \", f1)"
      ],
      "metadata": {
        "colab": {
          "base_uri": "https://localhost:8080/"
        },
        "id": "HQVY5ulr65aN",
        "outputId": "676e61df-7f2c-4fbc-a0cd-7816af769c39"
      },
      "execution_count": null,
      "outputs": [
        {
          "output_type": "stream",
          "name": "stdout",
          "text": [
            "F1 score:  0.9259039630322572\n"
          ]
        }
      ]
    },
    {
      "cell_type": "code",
      "source": [
        "y_pred = model.predict(val_ds)\n",
        "print(class_names[np.argmax(y_pred[1])])"
      ],
      "metadata": {
        "colab": {
          "base_uri": "https://localhost:8080/"
        },
        "id": "OuveXWuqsq1P",
        "outputId": "20f2d8bd-5973-42e2-c0fa-c60851ef18a3"
      },
      "execution_count": null,
      "outputs": [
        {
          "output_type": "stream",
          "name": "stdout",
          "text": [
            "80/80 [==============================] - 23s 292ms/step\n",
            "Lung_Opacity\n"
          ]
        }
      ]
    },
    {
      "cell_type": "code",
      "source": [
        "predicted_categories = np.argmax(y_pred, axis = 1)"
      ],
      "metadata": {
        "id": "jXB55HtesrTe"
      },
      "execution_count": null,
      "outputs": []
    },
    {
      "cell_type": "code",
      "source": [
        "true_categories = tf.concat([y for x, y in val_ds], axis = 0).numpy() # convert to np array"
      ],
      "metadata": {
        "id": "dH3PL-Dm6E4d"
      },
      "execution_count": null,
      "outputs": []
    },
    {
      "cell_type": "code",
      "source": [
        "true_categories_argmax = np.argmax(true_categories, axis = 1)"
      ],
      "metadata": {
        "id": "_E_gls1t6L-S"
      },
      "execution_count": null,
      "outputs": []
    },
    {
      "cell_type": "code",
      "source": [
        "print(classification_report(true_categories_argmax, predicted_categories))"
      ],
      "metadata": {
        "colab": {
          "base_uri": "https://localhost:8080/"
        },
        "id": "MLnBqpso6T8_",
        "outputId": "4f28c9dd-579d-400d-de1f-a4718e7ed5ef"
      },
      "execution_count": null,
      "outputs": [
        {
          "output_type": "stream",
          "name": "stdout",
          "text": [
            "              precision    recall  f1-score   support\n",
            "\n",
            "           0       0.95      0.97      0.96       427\n",
            "           1       0.85      0.95      0.90       712\n",
            "           2       0.97      0.89      0.92      1223\n",
            "           3       0.94      0.97      0.96       172\n",
            "\n",
            "    accuracy                           0.93      2534\n",
            "   macro avg       0.93      0.95      0.94      2534\n",
            "weighted avg       0.93      0.93      0.93      2534\n",
            "\n"
          ]
        }
      ]
    },
    {
      "cell_type": "code",
      "source": [
        "prediction_classes = np.array([])\n",
        "true_classes =  np.array([])\n",
        "\n",
        "for x, y in val_ds:\n",
        "  prediction_classes = np.concatenate([prediction_classes,\n",
        "                       np.argmax(model.predict(x), axis = -1)])\n",
        "  true_classes = np.concatenate([true_classes, np.argmax(y.numpy(), axis=-1)])"
      ],
      "metadata": {
        "colab": {
          "base_uri": "https://localhost:8080/"
        },
        "id": "M1OTRPJo6m43",
        "outputId": "bcbb57f3-9b14-4ab5-e277-c12b4220d8b1"
      },
      "execution_count": null,
      "outputs": [
        {
          "output_type": "stream",
          "name": "stdout",
          "text": [
            "1/1 [==============================] - 0s 184ms/step\n",
            "1/1 [==============================] - 0s 45ms/step\n",
            "1/1 [==============================] - 0s 46ms/step\n",
            "1/1 [==============================] - 0s 45ms/step\n",
            "1/1 [==============================] - 0s 45ms/step\n",
            "1/1 [==============================] - 0s 46ms/step\n",
            "1/1 [==============================] - 0s 49ms/step\n",
            "1/1 [==============================] - 0s 46ms/step\n",
            "1/1 [==============================] - 0s 45ms/step\n",
            "1/1 [==============================] - 0s 35ms/step\n",
            "1/1 [==============================] - 0s 49ms/step\n",
            "1/1 [==============================] - 0s 46ms/step\n",
            "1/1 [==============================] - 0s 50ms/step\n",
            "1/1 [==============================] - 0s 47ms/step\n",
            "1/1 [==============================] - 0s 50ms/step\n",
            "1/1 [==============================] - 0s 57ms/step\n",
            "1/1 [==============================] - 0s 36ms/step\n",
            "1/1 [==============================] - 0s 49ms/step\n",
            "1/1 [==============================] - 0s 46ms/step\n",
            "1/1 [==============================] - 0s 48ms/step\n",
            "1/1 [==============================] - 0s 47ms/step\n",
            "1/1 [==============================] - 0s 49ms/step\n",
            "1/1 [==============================] - 0s 46ms/step\n",
            "1/1 [==============================] - 0s 46ms/step\n",
            "1/1 [==============================] - 0s 47ms/step\n",
            "1/1 [==============================] - 0s 47ms/step\n",
            "1/1 [==============================] - 0s 47ms/step\n",
            "1/1 [==============================] - 0s 46ms/step\n",
            "1/1 [==============================] - 0s 51ms/step\n",
            "1/1 [==============================] - 0s 46ms/step\n",
            "1/1 [==============================] - 0s 46ms/step\n",
            "1/1 [==============================] - 0s 45ms/step\n",
            "1/1 [==============================] - 0s 47ms/step\n",
            "1/1 [==============================] - 0s 45ms/step\n",
            "1/1 [==============================] - 0s 45ms/step\n",
            "1/1 [==============================] - 0s 47ms/step\n",
            "1/1 [==============================] - 0s 47ms/step\n",
            "1/1 [==============================] - 0s 46ms/step\n",
            "1/1 [==============================] - 0s 47ms/step\n",
            "1/1 [==============================] - 0s 34ms/step\n",
            "1/1 [==============================] - 0s 45ms/step\n",
            "1/1 [==============================] - 0s 37ms/step\n",
            "1/1 [==============================] - 0s 46ms/step\n",
            "1/1 [==============================] - 0s 46ms/step\n",
            "1/1 [==============================] - 0s 47ms/step\n",
            "1/1 [==============================] - 0s 46ms/step\n",
            "1/1 [==============================] - 0s 46ms/step\n",
            "1/1 [==============================] - 0s 49ms/step\n",
            "1/1 [==============================] - 0s 49ms/step\n",
            "1/1 [==============================] - 0s 46ms/step\n",
            "1/1 [==============================] - 0s 49ms/step\n",
            "1/1 [==============================] - 0s 46ms/step\n",
            "1/1 [==============================] - 0s 45ms/step\n",
            "1/1 [==============================] - 0s 36ms/step\n",
            "1/1 [==============================] - 0s 47ms/step\n",
            "1/1 [==============================] - 0s 46ms/step\n",
            "1/1 [==============================] - 0s 46ms/step\n",
            "1/1 [==============================] - 0s 47ms/step\n",
            "1/1 [==============================] - 0s 49ms/step\n",
            "1/1 [==============================] - 0s 46ms/step\n",
            "1/1 [==============================] - 0s 46ms/step\n",
            "1/1 [==============================] - 0s 47ms/step\n",
            "1/1 [==============================] - 0s 35ms/step\n",
            "1/1 [==============================] - 0s 46ms/step\n",
            "1/1 [==============================] - 0s 36ms/step\n",
            "1/1 [==============================] - 0s 47ms/step\n",
            "1/1 [==============================] - 0s 49ms/step\n",
            "1/1 [==============================] - 0s 48ms/step\n",
            "1/1 [==============================] - 0s 46ms/step\n",
            "1/1 [==============================] - 0s 47ms/step\n",
            "1/1 [==============================] - 0s 46ms/step\n",
            "1/1 [==============================] - 0s 35ms/step\n",
            "1/1 [==============================] - 0s 46ms/step\n",
            "1/1 [==============================] - 0s 35ms/step\n",
            "1/1 [==============================] - 0s 48ms/step\n",
            "1/1 [==============================] - 0s 46ms/step\n",
            "1/1 [==============================] - 0s 46ms/step\n",
            "1/1 [==============================] - 0s 46ms/step\n",
            "1/1 [==============================] - 0s 46ms/step\n",
            "1/1 [==============================] - 0s 155ms/step\n"
          ]
        }
      ]
    },
    {
      "cell_type": "code",
      "source": [
        "print(classification_report(true_classes, prediction_classes))"
      ],
      "metadata": {
        "colab": {
          "base_uri": "https://localhost:8080/"
        },
        "id": "XFuhVJTy6wxS",
        "outputId": "4d427884-3a95-4bfa-fc66-0a30e3b16290"
      },
      "execution_count": null,
      "outputs": [
        {
          "output_type": "stream",
          "name": "stdout",
          "text": [
            "              precision    recall  f1-score   support\n",
            "\n",
            "         0.0       0.95      0.97      0.96       427\n",
            "         1.0       0.85      0.95      0.90       712\n",
            "         2.0       0.97      0.89      0.92      1223\n",
            "         3.0       0.94      0.97      0.96       172\n",
            "\n",
            "    accuracy                           0.93      2534\n",
            "   macro avg       0.93      0.95      0.94      2534\n",
            "weighted avg       0.93      0.93      0.93      2534\n",
            "\n"
          ]
        }
      ]
    },
    {
      "cell_type": "code",
      "source": [
        "cm = confusion_matrix(true_classes, prediction_classes)\n",
        "fig = plt.figure(figsize = (8,8))\n",
        "ax1 = fig.add_subplot(1,1,1)\n",
        "sns.set(font_scale=1.4) #for label size\n",
        "sns.heatmap(cm, annot=True, annot_kws={\"size\": 12},\n",
        "     cbar = False, cmap='Purples');\n",
        "ax1.set_ylabel('True Values',fontsize=14)\n",
        "ax1.set_xlabel('Predicted Values',fontsize=14)\n",
        "plt.show()"
      ],
      "metadata": {
        "colab": {
          "base_uri": "https://localhost:8080/",
          "height": 701
        },
        "id": "MuD5BgQJ8Bcw",
        "outputId": "09141eb4-ca20-48e1-ddba-1a2ff7fb805c"
      },
      "execution_count": null,
      "outputs": [
        {
          "output_type": "display_data",
          "data": {
            "text/plain": [
              "<Figure size 800x800 with 1 Axes>"
            ],
            "image/png": "[encoded data removed]"
          },
          "metadata": {}
        }
      ]
    },
    {
      "cell_type": "markdown",
      "source": [
        "After testing on multiple models including VGG16 and ResNet50 for Transfer Learning, it was determined that VGG19 was giving the best results for accuracy related to this dataset. We used half the dataset (over 10,000 images) and divided it into training, validation and test subsets. This dataset consists of four different categories of lung X-rays: Normal (most common), COPD, COVID, Pneumonia (least common).\n",
        "\n",
        "We then finetuned the model, ensuring that it did not overfit and that early stopping would be used with a learning rate of 0.0001 and then 0.00001 in the trainable model fit. The final results were as followed:\n",
        "\n",
        "Validation Accuracy: 0.9353\n",
        "\n",
        "Validation Recall: 0.9353\n",
        "\n",
        "Validation Precision: 0.9368\n",
        "\n",
        "Validation F1 Score: 0.9259\n",
        "\n",
        "Test Accuracy: 0.9203\n",
        "\n"
      ],
      "metadata": {
        "id": "HqUyLT8bS0IG"
      }
    }
  ]
}
